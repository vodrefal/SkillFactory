{
 "cells": [
  {
   "cell_type": "markdown",
   "metadata": {},
   "source": [
    "# Predict TripAdvisor Rating"
   ]
  },
  {
   "cell_type": "markdown",
   "metadata": {},
   "source": [
    "# import"
   ]
  },
  {
   "cell_type": "code",
   "execution_count": 162,
   "metadata": {
    "_cell_guid": "b1076dfc-b9ad-4769-8c92-a6c4dae69d19",
    "_uuid": "8f2839f25d086af736a60e9eeb907d3b93b6e0e5"
   },
   "outputs": [
    {
     "name": "stdout",
     "output_type": "stream",
     "text": [
      "/kaggle/lib/kaggle/gcp.py\n",
      "/kaggle/input/sf-dst-restaurant-rating/main_task.csv\n",
      "/kaggle/input/sf-dst-restaurant-rating/kaggle_task.csv\n",
      "/kaggle/input/sf-dst-restaurant-rating/sample_submission.csv\n",
      "/kaggle/input/opinionlexiconenglish/positive-words.txt\n",
      "/kaggle/input/opinionlexiconenglish/neg_words.txt\n",
      "/kaggle/working/requirements.txt\n",
      "/kaggle/working/__notebook_source__.ipynb\n"
     ]
    }
   ],
   "source": [
    "# This Python 3 environment comes with many helpful analytics libraries installed\n",
    "# It is defined by the kaggle/python docker image: https://github.com/kaggle/docker-python\n",
    "# For example, here's several helpful packages to load in \n",
    "\n",
    "import pandas as pd\n",
    "import numpy as np \n",
    "import re\n",
    "import json\n",
    "import datetime as dt\n",
    "from sklearn.model_selection import cross_val_score\n",
    "from sklearn.preprocessing import LabelEncoder\n",
    "import unicodedata #для транслитерации не ASCII\n",
    "import unidecode #для транслитерации не ASCII \n",
    "import seaborn as sns\n",
    "import matplotlib.pyplot as plt\n",
    "from collections import Counter\n",
    "import itertools\n",
    "%matplotlib inline\n",
    "\n",
    "\n",
    "import os\n",
    "for dirname, _, filenames in os.walk('/kaggle'):\n",
    "    for filename in filenames:\n",
    "        print(os.path.join(dirname, filename))\n",
    "\n",
    "# Any results you write to the current directory are saved as output."
   ]
  },
  {
   "cell_type": "code",
   "execution_count": 163,
   "metadata": {},
   "outputs": [],
   "source": [
    "# всегда фиксируйте RANDOM_SEED, чтобы ваши эксперименты были воспроизводимы!\n",
    "RANDOM_SEED = 42\n",
    "# - общую текущую дату\n",
    "CURRENT_DATE = pd.to_datetime('29/11/2020')"
   ]
  },
  {
   "cell_type": "code",
   "execution_count": 164,
   "metadata": {},
   "outputs": [],
   "source": [
    "# зафиксируем версию пакетов, чтобы эксперименты были воспроизводимы:\n",
    "!pip freeze > requirements.txt"
   ]
  },
  {
   "cell_type": "markdown",
   "metadata": {},
   "source": [
    "# DATA"
   ]
  },
  {
   "cell_type": "code",
   "execution_count": 165,
   "metadata": {
    "_cell_guid": "79c7e3d0-c299-4dcb-8224-4455121ee9b0",
    "_uuid": "d629ff2d2480ee46fbb7e2d37f6b5fab8052498a"
   },
   "outputs": [],
   "source": [
    "DATA_DIR = '/kaggle/input/sf-dst-restaurant-rating/'\n",
    "df_in = pd.read_csv(DATA_DIR+'main_task.csv')\n",
    "# Путь к датасету для которого требуется предсказать рейтинг\n",
    "df_kagle = pd.read_csv(DATA_DIR+'kaggle_task.csv')\n",
    "#Путь к 'submission.csv'\n",
    "submission_path = pd.read_csv(DATA_DIR+'sample_submission.csv')\n",
    "\n",
    "# ВАЖНО! дря корректной обработки признаков объединяем трейн и тест в один датасет\n",
    "\n",
    "df_kagle['ForTrain'] = False # помечаем где у нас тест\n",
    "df_kagle['Rating'] = 0 # в тесте у нас нет значения Rating, мы его должны предсказать, по этому пока просто заполняем нулями\n",
    "\n",
    "df_in['ForTrain'] = True # помечаем где у нас трейн\n",
    "df_in = df_in.append(df_kagle, sort=False).reset_index(drop=True)# объединяем"
   ]
  },
  {
   "cell_type": "code",
   "execution_count": 166,
   "metadata": {},
   "outputs": [],
   "source": [
    "# Путь к датасету, содержащему слова с позитивной окраской\n",
    "df_pos_words = pd.read_csv('/kaggle/input/opinionlexiconenglish/positive-words.txt',skiprows=34, names=['word'])\n",
    "pos_words_list = df_pos_words['word'].to_list() "
   ]
  },
  {
   "cell_type": "markdown",
   "metadata": {},
   "source": [
    "# What's next?\n",
    "Или что делать, чтоб улучшить результат:\n",
    "* Обработать оставшиеся признаки в понятный для машины формат\n",
    "* Посмотреть, что еще можно извлечь из признаков\n",
    "* Сгенерировать новые признаки\n",
    "* Подгрузить дополнительные данные, например: по населению или благосостоянию городов\n",
    "* Подобрать состав признаков\n",
    "\n",
    "В общем, процесс творческий и весьма увлекательный! Удачи в соревновании!\n"
   ]
  },
  {
   "cell_type": "markdown",
   "metadata": {},
   "source": [
    "# Знакомимся с данными"
   ]
  },
  {
   "cell_type": "code",
   "execution_count": 167,
   "metadata": {},
   "outputs": [
    {
     "name": "stdout",
     "output_type": "stream",
     "text": [
      "<class 'pandas.core.frame.DataFrame'>\n",
      "RangeIndex: 50000 entries, 0 to 49999\n",
      "Data columns (total 11 columns):\n",
      "Restaurant_id        50000 non-null object\n",
      "City                 50000 non-null object\n",
      "Cuisine Style        38410 non-null object\n",
      "Ranking              50000 non-null float64\n",
      "Rating               50000 non-null float64\n",
      "Price Range          32639 non-null object\n",
      "Number of Reviews    46800 non-null float64\n",
      "Reviews              49998 non-null object\n",
      "URL_TA               50000 non-null object\n",
      "ID_TA                50000 non-null object\n",
      "ForTrain             50000 non-null bool\n",
      "dtypes: bool(1), float64(3), object(7)\n",
      "memory usage: 3.9+ MB\n"
     ]
    }
   ],
   "source": [
    "df_in.info()"
   ]
  },
  {
   "cell_type": "code",
   "execution_count": 168,
   "metadata": {},
   "outputs": [
    {
     "data": {
      "text/html": [
       "<div>\n",
       "<style scoped>\n",
       "    .dataframe tbody tr th:only-of-type {\n",
       "        vertical-align: middle;\n",
       "    }\n",
       "\n",
       "    .dataframe tbody tr th {\n",
       "        vertical-align: top;\n",
       "    }\n",
       "\n",
       "    .dataframe thead th {\n",
       "        text-align: right;\n",
       "    }\n",
       "</style>\n",
       "<table border=\"1\" class=\"dataframe\">\n",
       "  <thead>\n",
       "    <tr style=\"text-align: right;\">\n",
       "      <th></th>\n",
       "      <th>Restaurant_id</th>\n",
       "      <th>City</th>\n",
       "      <th>Cuisine Style</th>\n",
       "      <th>Ranking</th>\n",
       "      <th>Rating</th>\n",
       "      <th>Price Range</th>\n",
       "      <th>Number of Reviews</th>\n",
       "      <th>Reviews</th>\n",
       "      <th>URL_TA</th>\n",
       "      <th>ID_TA</th>\n",
       "      <th>ForTrain</th>\n",
       "    </tr>\n",
       "  </thead>\n",
       "  <tbody>\n",
       "    <tr>\n",
       "      <th>0</th>\n",
       "      <td>id_5569</td>\n",
       "      <td>Paris</td>\n",
       "      <td>['European', 'French', 'International']</td>\n",
       "      <td>5570.0</td>\n",
       "      <td>3.5</td>\n",
       "      <td>$$ - $$$</td>\n",
       "      <td>194.0</td>\n",
       "      <td>[['Good food at your doorstep', 'A good hotel ...</td>\n",
       "      <td>/Restaurant_Review-g187147-d1912643-Reviews-R_...</td>\n",
       "      <td>d1912643</td>\n",
       "      <td>True</td>\n",
       "    </tr>\n",
       "    <tr>\n",
       "      <th>1</th>\n",
       "      <td>id_1535</td>\n",
       "      <td>Stockholm</td>\n",
       "      <td>NaN</td>\n",
       "      <td>1537.0</td>\n",
       "      <td>4.0</td>\n",
       "      <td>NaN</td>\n",
       "      <td>10.0</td>\n",
       "      <td>[['Unique cuisine', 'Delicious Nepalese food']...</td>\n",
       "      <td>/Restaurant_Review-g189852-d7992032-Reviews-Bu...</td>\n",
       "      <td>d7992032</td>\n",
       "      <td>True</td>\n",
       "    </tr>\n",
       "    <tr>\n",
       "      <th>2</th>\n",
       "      <td>id_352</td>\n",
       "      <td>London</td>\n",
       "      <td>['Japanese', 'Sushi', 'Asian', 'Grill', 'Veget...</td>\n",
       "      <td>353.0</td>\n",
       "      <td>4.5</td>\n",
       "      <td>$$$$</td>\n",
       "      <td>688.0</td>\n",
       "      <td>[['Catch up with friends', 'Not exceptional'],...</td>\n",
       "      <td>/Restaurant_Review-g186338-d8632781-Reviews-RO...</td>\n",
       "      <td>d8632781</td>\n",
       "      <td>True</td>\n",
       "    </tr>\n",
       "    <tr>\n",
       "      <th>3</th>\n",
       "      <td>id_3456</td>\n",
       "      <td>Berlin</td>\n",
       "      <td>NaN</td>\n",
       "      <td>3458.0</td>\n",
       "      <td>5.0</td>\n",
       "      <td>NaN</td>\n",
       "      <td>3.0</td>\n",
       "      <td>[[], []]</td>\n",
       "      <td>/Restaurant_Review-g187323-d1358776-Reviews-Es...</td>\n",
       "      <td>d1358776</td>\n",
       "      <td>True</td>\n",
       "    </tr>\n",
       "    <tr>\n",
       "      <th>4</th>\n",
       "      <td>id_615</td>\n",
       "      <td>Munich</td>\n",
       "      <td>['German', 'Central European', 'Vegetarian Fri...</td>\n",
       "      <td>621.0</td>\n",
       "      <td>4.0</td>\n",
       "      <td>$$ - $$$</td>\n",
       "      <td>84.0</td>\n",
       "      <td>[['Best place to try a Bavarian food', 'Nice b...</td>\n",
       "      <td>/Restaurant_Review-g187309-d6864963-Reviews-Au...</td>\n",
       "      <td>d6864963</td>\n",
       "      <td>True</td>\n",
       "    </tr>\n",
       "  </tbody>\n",
       "</table>\n",
       "</div>"
      ],
      "text/plain": [
       "  Restaurant_id       City                                      Cuisine Style  \\\n",
       "0       id_5569      Paris            ['European', 'French', 'International']   \n",
       "1       id_1535  Stockholm                                                NaN   \n",
       "2        id_352     London  ['Japanese', 'Sushi', 'Asian', 'Grill', 'Veget...   \n",
       "3       id_3456     Berlin                                                NaN   \n",
       "4        id_615     Munich  ['German', 'Central European', 'Vegetarian Fri...   \n",
       "\n",
       "   Ranking  Rating Price Range  Number of Reviews  \\\n",
       "0   5570.0     3.5    $$ - $$$              194.0   \n",
       "1   1537.0     4.0         NaN               10.0   \n",
       "2    353.0     4.5        $$$$              688.0   \n",
       "3   3458.0     5.0         NaN                3.0   \n",
       "4    621.0     4.0    $$ - $$$               84.0   \n",
       "\n",
       "                                             Reviews  \\\n",
       "0  [['Good food at your doorstep', 'A good hotel ...   \n",
       "1  [['Unique cuisine', 'Delicious Nepalese food']...   \n",
       "2  [['Catch up with friends', 'Not exceptional'],...   \n",
       "3                                           [[], []]   \n",
       "4  [['Best place to try a Bavarian food', 'Nice b...   \n",
       "\n",
       "                                              URL_TA     ID_TA  ForTrain  \n",
       "0  /Restaurant_Review-g187147-d1912643-Reviews-R_...  d1912643      True  \n",
       "1  /Restaurant_Review-g189852-d7992032-Reviews-Bu...  d7992032      True  \n",
       "2  /Restaurant_Review-g186338-d8632781-Reviews-RO...  d8632781      True  \n",
       "3  /Restaurant_Review-g187323-d1358776-Reviews-Es...  d1358776      True  \n",
       "4  /Restaurant_Review-g187309-d6864963-Reviews-Au...  d6864963      True  "
      ]
     },
     "execution_count": 168,
     "metadata": {},
     "output_type": "execute_result"
    }
   ],
   "source": [
    "df_in.head(5)"
   ]
  },
  {
   "cell_type": "markdown",
   "metadata": {},
   "source": [
    "Подробнее по признакам:\n",
    "* City: Город \n",
    "* Cuisine Style: Кухня\n",
    "* Ranking: Ранг ресторана относительно других ресторанов в этом городе\n",
    "* Price Range: Цены в ресторане в 3 категориях\n",
    "* Number of Reviews: Количество отзывов\n",
    "* Reviews: 2 последних отзыва и даты этих отзывов\n",
    "* URL_TA: страница ресторана на 'www.tripadvisor.com' \n",
    "* ID_TA: ID ресторана в TripAdvisor\n",
    "* Rating: Рейтинг ресторана"
   ]
  },
  {
   "cell_type": "markdown",
   "metadata": {},
   "source": []
  },
  {
   "cell_type": "code",
   "execution_count": 169,
   "metadata": {},
   "outputs": [],
   "source": [
    "# Выбираем нужные для последующего анализа столбцы\n",
    "df = df_in[['Ranking', 'Rating', 'Number of Reviews', 'City', 'Price Range', 'Cuisine Style', 'Reviews', 'Restaurant_id', 'ID_TA', 'ForTrain' ]].copy()"
   ]
  },
  {
   "cell_type": "code",
   "execution_count": 170,
   "metadata": {},
   "outputs": [
    {
     "data": {
      "text/html": [
       "<div>\n",
       "<style scoped>\n",
       "    .dataframe tbody tr th:only-of-type {\n",
       "        vertical-align: middle;\n",
       "    }\n",
       "\n",
       "    .dataframe tbody tr th {\n",
       "        vertical-align: top;\n",
       "    }\n",
       "\n",
       "    .dataframe thead th {\n",
       "        text-align: right;\n",
       "    }\n",
       "</style>\n",
       "<table border=\"1\" class=\"dataframe\">\n",
       "  <thead>\n",
       "    <tr style=\"text-align: right;\">\n",
       "      <th></th>\n",
       "      <th>Ranking</th>\n",
       "      <th>Rating</th>\n",
       "      <th>Number of Reviews</th>\n",
       "      <th>City</th>\n",
       "      <th>Price Range</th>\n",
       "      <th>Cuisine Style</th>\n",
       "      <th>Reviews</th>\n",
       "      <th>Restaurant_id</th>\n",
       "      <th>ID_TA</th>\n",
       "      <th>ForTrain</th>\n",
       "    </tr>\n",
       "  </thead>\n",
       "  <tbody>\n",
       "    <tr>\n",
       "      <th>18250</th>\n",
       "      <td>8549.0</td>\n",
       "      <td>2.0</td>\n",
       "      <td>94.0</td>\n",
       "      <td>Madrid</td>\n",
       "      <td>NaN</td>\n",
       "      <td>['International']</td>\n",
       "      <td>[[], []]</td>\n",
       "      <td>id_8542</td>\n",
       "      <td>d953567</td>\n",
       "      <td>True</td>\n",
       "    </tr>\n",
       "    <tr>\n",
       "      <th>42246</th>\n",
       "      <td>4571.0</td>\n",
       "      <td>0.0</td>\n",
       "      <td>17.0</td>\n",
       "      <td>Berlin</td>\n",
       "      <td>NaN</td>\n",
       "      <td>NaN</td>\n",
       "      <td>[['GDR - Funk meets Molecular Cuisine', 'East ...</td>\n",
       "      <td>id_2246</td>\n",
       "      <td>d2020466</td>\n",
       "      <td>False</td>\n",
       "    </tr>\n",
       "    <tr>\n",
       "      <th>4608</th>\n",
       "      <td>430.0</td>\n",
       "      <td>5.0</td>\n",
       "      <td>25.0</td>\n",
       "      <td>Oporto</td>\n",
       "      <td>$</td>\n",
       "      <td>['Mediterranean', 'European', 'Portuguese']</td>\n",
       "      <td>[['Great seafood', 'Very good indeed'], ['01/0...</td>\n",
       "      <td>id_429</td>\n",
       "      <td>d9561344</td>\n",
       "      <td>True</td>\n",
       "    </tr>\n",
       "    <tr>\n",
       "      <th>16341</th>\n",
       "      <td>1187.0</td>\n",
       "      <td>5.0</td>\n",
       "      <td>NaN</td>\n",
       "      <td>Edinburgh</td>\n",
       "      <td>NaN</td>\n",
       "      <td>NaN</td>\n",
       "      <td>[[], []]</td>\n",
       "      <td>id_1186</td>\n",
       "      <td>d8686804</td>\n",
       "      <td>True</td>\n",
       "    </tr>\n",
       "    <tr>\n",
       "      <th>28637</th>\n",
       "      <td>644.0</td>\n",
       "      <td>4.5</td>\n",
       "      <td>22.0</td>\n",
       "      <td>Athens</td>\n",
       "      <td>$$ - $$$</td>\n",
       "      <td>['Mediterranean', 'Greek', 'European']</td>\n",
       "      <td>[['Excellent', 'All time classic'], ['11/06/20...</td>\n",
       "      <td>id_643</td>\n",
       "      <td>d814051</td>\n",
       "      <td>True</td>\n",
       "    </tr>\n",
       "  </tbody>\n",
       "</table>\n",
       "</div>"
      ],
      "text/plain": [
       "       Ranking  Rating  Number of Reviews       City Price Range  \\\n",
       "18250   8549.0     2.0               94.0     Madrid         NaN   \n",
       "42246   4571.0     0.0               17.0     Berlin         NaN   \n",
       "4608     430.0     5.0               25.0     Oporto           $   \n",
       "16341   1187.0     5.0                NaN  Edinburgh         NaN   \n",
       "28637    644.0     4.5               22.0     Athens    $$ - $$$   \n",
       "\n",
       "                                     Cuisine Style  \\\n",
       "18250                            ['International']   \n",
       "42246                                          NaN   \n",
       "4608   ['Mediterranean', 'European', 'Portuguese']   \n",
       "16341                                          NaN   \n",
       "28637       ['Mediterranean', 'Greek', 'European']   \n",
       "\n",
       "                                                 Reviews Restaurant_id  \\\n",
       "18250                                           [[], []]       id_8542   \n",
       "42246  [['GDR - Funk meets Molecular Cuisine', 'East ...       id_2246   \n",
       "4608   [['Great seafood', 'Very good indeed'], ['01/0...        id_429   \n",
       "16341                                           [[], []]       id_1186   \n",
       "28637  [['Excellent', 'All time classic'], ['11/06/20...        id_643   \n",
       "\n",
       "          ID_TA  ForTrain  \n",
       "18250   d953567      True  \n",
       "42246  d2020466     False  \n",
       "4608   d9561344      True  \n",
       "16341  d8686804      True  \n",
       "28637   d814051      True  "
      ]
     },
     "execution_count": 170,
     "metadata": {},
     "output_type": "execute_result"
    }
   ],
   "source": [
    "df.sample(5)"
   ]
  },
  {
   "cell_type": "code",
   "execution_count": 171,
   "metadata": {},
   "outputs": [
    {
     "data": {
      "text/plain": [
       "\"[['Unique cuisine', 'Delicious Nepalese food'], ['07/06/2017', '06/19/2016']]\""
      ]
     },
     "execution_count": 171,
     "metadata": {},
     "output_type": "execute_result"
    }
   ],
   "source": [
    "df.Reviews[1]"
   ]
  },
  {
   "cell_type": "markdown",
   "metadata": {},
   "source": [
    "Как видим, большинство признаков у нас требует очистки и предварительной обработки."
   ]
  },
  {
   "cell_type": "markdown",
   "metadata": {},
   "source": [
    "# Обработка данных\n",
    "\n"
   ]
  },
  {
   "cell_type": "code",
   "execution_count": 172,
   "metadata": {},
   "outputs": [
    {
     "name": "stdout",
     "output_type": "stream",
     "text": [
      "<class 'pandas.core.frame.DataFrame'>\n",
      "RangeIndex: 50000 entries, 0 to 49999\n",
      "Data columns (total 10 columns):\n",
      "Ranking              50000 non-null float64\n",
      "Rating               50000 non-null float64\n",
      "Number of Reviews    46800 non-null float64\n",
      "City                 50000 non-null object\n",
      "Price Range          32639 non-null object\n",
      "Cuisine Style        38410 non-null object\n",
      "Reviews              49998 non-null object\n",
      "Restaurant_id        50000 non-null object\n",
      "ID_TA                50000 non-null object\n",
      "ForTrain             50000 non-null bool\n",
      "dtypes: bool(1), float64(3), object(6)\n",
      "memory usage: 3.5+ MB\n"
     ]
    }
   ],
   "source": [
    "# Посмотрим на признаки и количество пропусков (NaN)\n",
    "df.info()"
   ]
  },
  {
   "cell_type": "code",
   "execution_count": 173,
   "metadata": {},
   "outputs": [
    {
     "data": {
      "text/plain": [
       "Ranking              12975\n",
       "Rating                  10\n",
       "Number of Reviews     1574\n",
       "City                    31\n",
       "Price Range              4\n",
       "Cuisine Style        10732\n",
       "Reviews              41858\n",
       "Restaurant_id        13094\n",
       "ID_TA                49963\n",
       "ForTrain                 2\n",
       "dtype: int64"
      ]
     },
     "execution_count": 173,
     "metadata": {},
     "output_type": "execute_result"
    }
   ],
   "source": [
    "# Посмотрим на признаки и к-во уникальных значений\n",
    "df.nunique(dropna=False)"
   ]
  },
  {
   "cell_type": "code",
   "execution_count": 174,
   "metadata": {},
   "outputs": [
    {
     "data": {
      "image/png": "[encoded data removed]",
      "text/plain": [
       "<Figure size 1440x720 with 4 Axes>"
      ]
     },
     "metadata": {
      "needs_background": "light"
     },
     "output_type": "display_data"
    }
   ],
   "source": [
    "# Посмотрим на гистограммы числовых признаков\n",
    "df[df.ForTrain][['Ranking', 'Rating', 'Number of Reviews','Price Range', 'Restaurant_id']].hist(figsize=(20, 10), bins=100);\n",
    "plt.tight_layout()"
   ]
  },
  {
   "cell_type": "markdown",
   "metadata": {},
   "source": [
    "# Restaurant_id"
   ]
  },
  {
   "cell_type": "code",
   "execution_count": 175,
   "metadata": {},
   "outputs": [
    {
     "data": {
      "image/png": "[encoded data removed]",
      "text/plain": [
       "<Figure size 720x360 with 1 Axes>"
      ]
     },
     "metadata": {
      "needs_background": "light"
     },
     "output_type": "display_data"
    }
   ],
   "source": [
    "df[df.ForTrain]['Restaurant_id'].apply(lambda x: x.split('_')[1]).astype(int).hist(figsize=(10,5), bins=100);\n",
    "plt.tight_layout()"
   ]
  },
  {
   "cell_type": "markdown",
   "metadata": {},
   "source": [
    "# ID_TA"
   ]
  },
  {
   "cell_type": "code",
   "execution_count": 176,
   "metadata": {},
   "outputs": [
    {
     "data": {
      "image/png": "[encoded data removed]",
      "text/plain": [
       "<Figure size 720x360 with 1 Axes>"
      ]
     },
     "metadata": {
      "needs_background": "light"
     },
     "output_type": "display_data"
    }
   ],
   "source": [
    "df[df.ForTrain]['ID_TA'].apply(lambda x: x.replace('d','')).astype(int).hist(figsize=(10, 5), bins=100);\n",
    "plt.tight_layout()"
   ]
  },
  {
   "cell_type": "code",
   "execution_count": 177,
   "metadata": {},
   "outputs": [
    {
     "data": {
      "text/plain": [
       "0         1912643\n",
       "1         7992032\n",
       "2         8632781\n",
       "3         1358776\n",
       "4         6864963\n",
       "           ...   \n",
       "49995    11916827\n",
       "49996    12701633\n",
       "49997    13198194\n",
       "49998     3862815\n",
       "49999    10342814\n",
       "Name: ID_TA, Length: 50000, dtype: object"
      ]
     },
     "execution_count": 177,
     "metadata": {},
     "output_type": "execute_result"
    }
   ],
   "source": [
    "df['ID_TA'] = df['ID_TA'].apply(lambda x: x[1:]) \n",
    "df['ID_TA'] "
   ]
  },
  {
   "cell_type": "markdown",
   "metadata": {},
   "source": [
    "# Reviews"
   ]
  },
  {
   "cell_type": "code",
   "execution_count": 178,
   "metadata": {},
   "outputs": [],
   "source": [
    "# Reviews - убираем NaN и обрабатываем текст отзывов \n",
    "df['Reviews_txt_NaN'] = df['Reviews'].apply(lambda x: x ==  '[[], []]')"
   ]
  },
  {
   "cell_type": "code",
   "execution_count": 179,
   "metadata": {},
   "outputs": [],
   "source": [
    "df['Reviews'] = df['Reviews'].fillna('[[], []]')"
   ]
  },
  {
   "cell_type": "markdown",
   "metadata": {},
   "source": [
    "# Price Range"
   ]
  },
  {
   "cell_type": "code",
   "execution_count": 180,
   "metadata": {},
   "outputs": [],
   "source": [
    "# Перекодируем Price Range и удаляем NaN\n",
    "cleanup_nums = {'Price Range':     {\"$\": 1, \"$$ - $$$\": 2, \"$$$$\": 3, np.NaN: 2}} # чаще всего встречается \"$$ - $$$\" == 2\n",
    "df['Price Range NAN'] = df['Price Range'].isna()\n",
    "df.replace(cleanup_nums, inplace=True)"
   ]
  },
  {
   "cell_type": "markdown",
   "metadata": {},
   "source": [
    "# Cuisine Style"
   ]
  },
  {
   "cell_type": "code",
   "execution_count": 181,
   "metadata": {},
   "outputs": [],
   "source": [
    "# Получаем список кухонь в виде: cuisines[0] - list of cusines, если был NaN, то возвращается 'Regionl Cusine' - как самая популярная в регионе/городе/стране\n",
    "def get_cuisines(cuisines):\n",
    "  \n",
    "    if cuisines == 'NaN': return ['Regionl Cusine']#['Vegetarian Friendly'] # 'Vegetarian Friendly' - самая популярная\n",
    "    if  cuisines:\n",
    "        cuisines = str(cuisines).replace(\"'\",'\"')\n",
    "        return json.loads(cuisines)\n",
    "    else:\n",
    "        return ['Regionl Cusine'] #return ['Vegetarian Friendly']"
   ]
  },
  {
   "cell_type": "code",
   "execution_count": 182,
   "metadata": {},
   "outputs": [],
   "source": [
    "# Получаем количество кухонь\n",
    "\n",
    "allCusines = []\n",
    "def cuisine_styles_count(row):\n",
    "   \n",
    "    global allCusines\n",
    "    cusines = get_cuisines(row['Cuisine Style'])\n",
    "    \n",
    "    if row['Cuisine Style'] != 'NaN':    \n",
    "        cusines = get_cuisines(row['Cuisine Style'])\n",
    "        allCusines.extend(cusines)\n",
    "        cuisines_count =len(cusines)\n",
    "    else:\n",
    "        cuisines_count = 1\n",
    "\n",
    "    return cuisines_count"
   ]
  },
  {
   "cell_type": "code",
   "execution_count": 183,
   "metadata": {},
   "outputs": [
    {
     "name": "stdout",
     "output_type": "stream",
     "text": [
      "Vegetarian Friendly\n",
      "3.0\n"
     ]
    }
   ],
   "source": [
    "# Получаем Cuisines Count, самую популярную кухню, среднее к-во кухонь в ресторане и устраняем NaN\n",
    "df['Cuisine Style NAN'] = df['Cuisine Style'].isna()\n",
    "df['Cuisine Style'] = df['Cuisine Style'].fillna('NaN')\n",
    "df['Cuisines Count'] = df.apply(cuisine_styles_count, axis=1)\n",
    "\n",
    "most_popular_cusine = pd.Series(allCusines).value_counts().index[0]\n",
    "average_cousines_count = np.round(df['Cuisines Count'].mean())\n",
    "print(most_popular_cusine)\n",
    "print(average_cousines_count)"
   ]
  },
  {
   "cell_type": "code",
   "execution_count": 184,
   "metadata": {},
   "outputs": [],
   "source": [
    "#allCusines"
   ]
  },
  {
   "cell_type": "markdown",
   "metadata": {},
   "source": [
    "# Number of Reviews"
   ]
  },
  {
   "cell_type": "code",
   "execution_count": 185,
   "metadata": {},
   "outputs": [],
   "source": [
    "# Number of Reviews\n",
    "df['Number of Reviews NAN'] = df['Number of Reviews'].isna()\n",
    "replace_val = df['Number of Reviews'].mean()\n",
    "replace_val = np.round(replace_val)\n",
    "df['Number of Reviews'] = df['Number of Reviews'].fillna(replace_val)"
   ]
  },
  {
   "cell_type": "code",
   "execution_count": 186,
   "metadata": {},
   "outputs": [
    {
     "data": {
      "text/html": [
       "<div>\n",
       "<style scoped>\n",
       "    .dataframe tbody tr th:only-of-type {\n",
       "        vertical-align: middle;\n",
       "    }\n",
       "\n",
       "    .dataframe tbody tr th {\n",
       "        vertical-align: top;\n",
       "    }\n",
       "\n",
       "    .dataframe thead th {\n",
       "        text-align: right;\n",
       "    }\n",
       "</style>\n",
       "<table border=\"1\" class=\"dataframe\">\n",
       "  <thead>\n",
       "    <tr style=\"text-align: right;\">\n",
       "      <th></th>\n",
       "      <th>Ranking</th>\n",
       "      <th>Rating</th>\n",
       "      <th>Number of Reviews</th>\n",
       "      <th>City</th>\n",
       "      <th>Price Range</th>\n",
       "      <th>Cuisine Style</th>\n",
       "      <th>Reviews</th>\n",
       "      <th>Restaurant_id</th>\n",
       "      <th>ID_TA</th>\n",
       "      <th>ForTrain</th>\n",
       "      <th>Reviews_txt_NaN</th>\n",
       "      <th>Price Range NAN</th>\n",
       "      <th>Cuisine Style NAN</th>\n",
       "      <th>Cuisines Count</th>\n",
       "      <th>Number of Reviews NAN</th>\n",
       "    </tr>\n",
       "  </thead>\n",
       "  <tbody>\n",
       "    <tr>\n",
       "      <th>25543</th>\n",
       "      <td>1290.0</td>\n",
       "      <td>4.0</td>\n",
       "      <td>31.0</td>\n",
       "      <td>Brussels</td>\n",
       "      <td>2</td>\n",
       "      <td>['Italian']</td>\n",
       "      <td>[['Very good mom &amp; pop Italian', 'Best italian...</td>\n",
       "      <td>id_1289</td>\n",
       "      <td>940361</td>\n",
       "      <td>True</td>\n",
       "      <td>False</td>\n",
       "      <td>False</td>\n",
       "      <td>False</td>\n",
       "      <td>1</td>\n",
       "      <td>False</td>\n",
       "    </tr>\n",
       "    <tr>\n",
       "      <th>39965</th>\n",
       "      <td>5722.0</td>\n",
       "      <td>5.0</td>\n",
       "      <td>124.0</td>\n",
       "      <td>Rome</td>\n",
       "      <td>2</td>\n",
       "      <td>NaN</td>\n",
       "      <td>[[], []]</td>\n",
       "      <td>id_5720</td>\n",
       "      <td>793376</td>\n",
       "      <td>True</td>\n",
       "      <td>True</td>\n",
       "      <td>True</td>\n",
       "      <td>True</td>\n",
       "      <td>1</td>\n",
       "      <td>True</td>\n",
       "    </tr>\n",
       "    <tr>\n",
       "      <th>28129</th>\n",
       "      <td>1305.0</td>\n",
       "      <td>4.5</td>\n",
       "      <td>19.0</td>\n",
       "      <td>Brussels</td>\n",
       "      <td>2</td>\n",
       "      <td>NaN</td>\n",
       "      <td>[['A pleasant suburban restaurant', 'great ser...</td>\n",
       "      <td>id_1304</td>\n",
       "      <td>1828532</td>\n",
       "      <td>True</td>\n",
       "      <td>False</td>\n",
       "      <td>True</td>\n",
       "      <td>True</td>\n",
       "      <td>1</td>\n",
       "      <td>False</td>\n",
       "    </tr>\n",
       "    <tr>\n",
       "      <th>11451</th>\n",
       "      <td>6738.0</td>\n",
       "      <td>3.0</td>\n",
       "      <td>5.0</td>\n",
       "      <td>Barcelona</td>\n",
       "      <td>2</td>\n",
       "      <td>NaN</td>\n",
       "      <td>[['Dishonest and expensive', 'restaurant of Ho...</td>\n",
       "      <td>id_6737</td>\n",
       "      <td>997413</td>\n",
       "      <td>True</td>\n",
       "      <td>False</td>\n",
       "      <td>True</td>\n",
       "      <td>True</td>\n",
       "      <td>1</td>\n",
       "      <td>False</td>\n",
       "    </tr>\n",
       "    <tr>\n",
       "      <th>34513</th>\n",
       "      <td>1446.0</td>\n",
       "      <td>4.0</td>\n",
       "      <td>760.0</td>\n",
       "      <td>Rome</td>\n",
       "      <td>2</td>\n",
       "      <td>['Italian', 'Mediterranean', 'Soups', 'Vegetar...</td>\n",
       "      <td>[['Classic Tuscan Fare in Rome', 'Saturday Eve...</td>\n",
       "      <td>id_1445</td>\n",
       "      <td>716329</td>\n",
       "      <td>True</td>\n",
       "      <td>False</td>\n",
       "      <td>False</td>\n",
       "      <td>False</td>\n",
       "      <td>5</td>\n",
       "      <td>False</td>\n",
       "    </tr>\n",
       "  </tbody>\n",
       "</table>\n",
       "</div>"
      ],
      "text/plain": [
       "       Ranking  Rating  Number of Reviews       City  Price Range  \\\n",
       "25543   1290.0     4.0               31.0   Brussels            2   \n",
       "39965   5722.0     5.0              124.0       Rome            2   \n",
       "28129   1305.0     4.5               19.0   Brussels            2   \n",
       "11451   6738.0     3.0                5.0  Barcelona            2   \n",
       "34513   1446.0     4.0              760.0       Rome            2   \n",
       "\n",
       "                                           Cuisine Style  \\\n",
       "25543                                        ['Italian']   \n",
       "39965                                                NaN   \n",
       "28129                                                NaN   \n",
       "11451                                                NaN   \n",
       "34513  ['Italian', 'Mediterranean', 'Soups', 'Vegetar...   \n",
       "\n",
       "                                                 Reviews Restaurant_id  \\\n",
       "25543  [['Very good mom & pop Italian', 'Best italian...       id_1289   \n",
       "39965                                           [[], []]       id_5720   \n",
       "28129  [['A pleasant suburban restaurant', 'great ser...       id_1304   \n",
       "11451  [['Dishonest and expensive', 'restaurant of Ho...       id_6737   \n",
       "34513  [['Classic Tuscan Fare in Rome', 'Saturday Eve...       id_1445   \n",
       "\n",
       "         ID_TA  ForTrain  Reviews_txt_NaN  Price Range NAN  Cuisine Style NAN  \\\n",
       "25543   940361      True            False            False              False   \n",
       "39965   793376      True             True             True               True   \n",
       "28129  1828532      True            False             True               True   \n",
       "11451   997413      True            False             True               True   \n",
       "34513   716329      True            False            False              False   \n",
       "\n",
       "       Cuisines Count  Number of Reviews NAN  \n",
       "25543               1                  False  \n",
       "39965               1                   True  \n",
       "28129               1                  False  \n",
       "11451               1                  False  \n",
       "34513               5                  False  "
      ]
     },
     "execution_count": 186,
     "metadata": {},
     "output_type": "execute_result"
    }
   ],
   "source": [
    "df.sample(5)"
   ]
  },
  {
   "cell_type": "markdown",
   "metadata": {},
   "source": [
    "# EDA\n",
    "Посмотрим распределение признака"
   ]
  },
  {
   "cell_type": "code",
   "execution_count": 187,
   "metadata": {},
   "outputs": [
    {
     "data": {
      "image/png": "[encoded data removed]",
      "text/plain": [
       "<Figure size 720x360 with 1 Axes>"
      ]
     },
     "metadata": {
      "needs_background": "light"
     },
     "output_type": "display_data"
    }
   ],
   "source": [
    "plt.rcParams['figure.figsize'] = (10,5)\n",
    "df[df.ForTrain]['Ranking'].hist(bins=100);"
   ]
  },
  {
   "cell_type": "markdown",
   "metadata": {},
   "source": [
    "У нас много ресторанов, которые не дотягивают и до 2500 места в своем городе, а что там по городам?"
   ]
  },
  {
   "cell_type": "code",
   "execution_count": 188,
   "metadata": {},
   "outputs": [
    {
     "data": {
      "image/png": "[encoded data removed]",
      "text/plain": [
       "<Figure size 720x360 with 1 Axes>"
      ]
     },
     "metadata": {
      "needs_background": "light"
     },
     "output_type": "display_data"
    }
   ],
   "source": [
    "df[df.ForTrain]['City'].value_counts(ascending=True).plot(kind='barh');"
   ]
  },
  {
   "cell_type": "markdown",
   "metadata": {},
   "source": [
    "Посмотрим, как изменится распределение в большом городе:"
   ]
  },
  {
   "cell_type": "code",
   "execution_count": 189,
   "metadata": {},
   "outputs": [
    {
     "data": {
      "image/png": "[encoded data removed]",
      "text/plain": [
       "<Figure size 720x360 with 1 Axes>"
      ]
     },
     "metadata": {
      "needs_background": "light"
     },
     "output_type": "display_data"
    }
   ],
   "source": [
    "df[df.ForTrain]['Ranking'][df[df.ForTrain]['City'] =='London'].hist(bins=100);"
   ]
  },
  {
   "cell_type": "code",
   "execution_count": 190,
   "metadata": {},
   "outputs": [
    {
     "data": {
      "image/png": "[encoded data removed]",
      "text/plain": [
       "<Figure size 720x360 with 1 Axes>"
      ]
     },
     "metadata": {
      "needs_background": "light"
     },
     "output_type": "display_data"
    }
   ],
   "source": [
    "# посмотрим на топ 10 городов\n",
    "for x in (df[df.ForTrain]['City'].value_counts())[0:10].index:\n",
    "    df[df.ForTrain]['Ranking'][df[df.ForTrain]['City'] == x].hist(bins=100)\n",
    "plt.show()"
   ]
  },
  {
   "cell_type": "markdown",
   "metadata": {},
   "source": [
    "Получается, что Ranking имеет нормальное распределение, просто в больших городах больше ресторанов, из-за мы этого имеем смещение. Для нормализации Rankin можно использовать новый признак, например, количество ресторанов на 1000 жителей, а не просто количество жителей\n",
    "\n",
    "\n",
    "# Целевая переменная Rating\n",
    "\n",
    "Посмотрим распределение целевой переменной"
   ]
  },
  {
   "cell_type": "code",
   "execution_count": 191,
   "metadata": {},
   "outputs": [
    {
     "data": {
      "image/png": "[encoded data removed]",
      "text/plain": [
       "<Figure size 720x360 with 1 Axes>"
      ]
     },
     "metadata": {
      "needs_background": "light"
     },
     "output_type": "display_data"
    }
   ],
   "source": [
    "df[df.ForTrain]['Rating'].value_counts(ascending=True).plot(kind='barh');"
   ]
  },
  {
   "cell_type": "markdown",
   "metadata": {},
   "source": [
    "Посмотрим распределение целевой переменной относительно признака"
   ]
  },
  {
   "cell_type": "code",
   "execution_count": 192,
   "metadata": {},
   "outputs": [
    {
     "data": {
      "image/png": "[encoded data removed]",
      "text/plain": [
       "<Figure size 720x360 with 1 Axes>"
      ]
     },
     "metadata": {
      "needs_background": "light"
     },
     "output_type": "display_data"
    }
   ],
   "source": [
    "df[df.ForTrain]['Ranking'][df[df.ForTrain]['Rating'] == 5].hist(bins=100);"
   ]
  },
  {
   "cell_type": "code",
   "execution_count": 193,
   "metadata": {},
   "outputs": [
    {
     "data": {
      "image/png": "[encoded data removed]",
      "text/plain": [
       "<Figure size 720x360 with 1 Axes>"
      ]
     },
     "metadata": {
      "needs_background": "light"
     },
     "output_type": "display_data"
    }
   ],
   "source": [
    "df[df.ForTrain]['Ranking'][df[df.ForTrain]['Rating'] < 4].hist(bins=100);"
   ]
  },
  {
   "cell_type": "code",
   "execution_count": 194,
   "metadata": {},
   "outputs": [
    {
     "data": {
      "image/png": "[encoded data removed]",
      "text/plain": [
       "<Figure size 1080x720 with 2 Axes>"
      ]
     },
     "metadata": {
      "needs_background": "light"
     },
     "output_type": "display_data"
    }
   ],
   "source": [
    "plt.rcParams['figure.figsize'] = (15,10)\n",
    "sns.heatmap(df[df.ForTrain].drop(['ForTrain'], axis=1).corr(),annot=True)\n",
    "plt.tight_layout()"
   ]
  },
  {
   "cell_type": "markdown",
   "metadata": {},
   "source": [
    "Поищем другие или дополнительные признаки, привлечем внешние данные"
   ]
  },
  {
   "cell_type": "code",
   "execution_count": 195,
   "metadata": {},
   "outputs": [],
   "source": [
    "population_city_dict = {    \n",
    "    'London': 8.173900,\n",
    "    'Paris': 2.240621,\n",
    "    'Madrid': 3.155360,\n",
    "    'Barcelona': 1.593075,\n",
    "    'Berlin': 3.326002,\n",
    "    'Milan': 1.331586,\n",
    "    'Rome': 2.870493,\n",
    "    'Prague': 1.272690,\n",
    "    'Lisbon': .547733,\n",
    "    'Vienna': 1.765649,\n",
    "    'Amsterdam': .825080,\n",
    "    'Brussels': .144784,\n",
    "    'Hamburg': 1.718187,\n",
    "    'Munich': 1.364920,\n",
    "    'Lyon': .496343,\n",
    "    'Stockholm': 1.981263,\n",
    "    'Budapest': 1.744665,\n",
    "    'Warsaw': 1.720398,\n",
    "    'Dublin': .506211 ,\n",
    "    'Copenhagen': 1.246611,\n",
    "    'Athens': 3.168846,\n",
    "    'Edinburgh': .476100,\n",
    "    'Zurich': .402275,\n",
    "    'Oporto': .221800,\n",
    "    'Geneva': .196150,\n",
    "    'Krakow': .756183,\n",
    "    'Oslo': .673469,\n",
    "    'Helsinki': .574579,\n",
    "    'Bratislava': .413192,\n",
    "    'Luxembourg': .576249,\n",
    "    'Ljubljana': .277554\n",
    "    }"
   ]
  },
  {
   "cell_type": "code",
   "execution_count": 196,
   "metadata": {},
   "outputs": [],
   "source": [
    "# Вычисляем к-во ресторанов для города в каждой строке\n",
    "restorants_in_city = df.groupby('City')['Ranking'].count().to_dict()\n",
    "df['Restaurants Count'] = df['City'].map(restorants_in_city)\n",
    "# df['Restaurants Count']"
   ]
  },
  {
   "cell_type": "code",
   "execution_count": 197,
   "metadata": {},
   "outputs": [],
   "source": [
    "# Вычисляем население (в тыс. чел) для города в каждой строке\n",
    "df['Population'] = df[\"City\"].map(population_city_dict)\n",
    "#df['Population']"
   ]
  },
  {
   "cell_type": "code",
   "execution_count": 198,
   "metadata": {},
   "outputs": [],
   "source": [
    "# Вычисляем к-во ресторанов на 1000 чел для города в каждой строке\n",
    "df['Restaurants for Population'] = df['Restaurants Count'] / (df['Population']*1000) \n",
    "#df['Restaurants for Population']"
   ]
  },
  {
   "cell_type": "markdown",
   "metadata": {},
   "source": [
    "## Flags"
   ]
  },
  {
   "cell_type": "code",
   "execution_count": 199,
   "metadata": {},
   "outputs": [],
   "source": [
    "# Флаги (1/0) isMostPopCusine - есть ли в ресторане самая популярная кухня; isMultyCusine - к-во кухонь в ресторане больше или столько же чем в среднем\n",
    "df['isMostPopCusine'] = df['Cuisine Style'].apply(lambda x: 1 if most_popular_cusine in x else 0 )\n",
    "df['isMultyCusine'] = df['Cuisines Count'].apply(lambda x: 1 if  x >= average_cousines_count else 0 )"
   ]
  },
  {
   "cell_type": "markdown",
   "metadata": {},
   "source": [
    "# Reviews \n",
    "\n",
    "Обработка отзывов\n",
    "\n",
    "Получаем review в виде:\n",
    "- review['reviews_txt'][1] - list of reviews\n",
    "- review['reviews_dt'][1] - list of reviews dates\n",
    " "
   ]
  },
  {
   "cell_type": "code",
   "execution_count": 200,
   "metadata": {},
   "outputs": [],
   "source": [
    "def get_reviews(rev):\n",
    "    if  not pd.isna(rev): \n",
    "        rev = str(rev).replace(\"'\",'\"')\n",
    "        rev = rev.replace('], [', '], \"reviews_dt\": [')\n",
    "        rev = '{ \"reviews_txt\":' + rev + '}'\n",
    "        rev = rev.replace('[[','[').replace(']]',']')\n",
    "        d = json.loads(rev)\n",
    "\n",
    "        d['reviews_dt'] = [dt.datetime.strptime(date, '%m/%d/%Y').date() if len(date.split('/')[2])==4 else dt.datetime.strptime(date, '%m/%d/%y').date() for date in d['reviews_dt']]\n",
    "        return d\n",
    "    else:\n",
    "        return {}"
   ]
  },
  {
   "cell_type": "markdown",
   "metadata": {},
   "source": [
    "### RevTimeDelta - время между review в днях\n",
    "\n",
    "Вычисляем время между review в днях\n",
    "\n",
    "Не заработало\n"
   ]
  },
  {
   "cell_type": "code",
   "execution_count": 201,
   "metadata": {},
   "outputs": [],
   "source": [
    "# RevTimeDelta - время между review в днях\n",
    "\n",
    "def rev_time_delta(reviews):\n",
    "    if (pd.notna(reviews)):\n",
    "        reviews_dt_list = get_reviews(reviews)['reviews_dt']\n",
    "        if reviews_dt_list:\n",
    "            return (max(reviews_dt_list) - min(reviews_dt_list)).days\n",
    "        else:\n",
    "            return dt.timedelta(days=3650).days\n",
    "    else:\n",
    "        return dt.timedelta(days=3650).days\n"
   ]
  },
  {
   "cell_type": "code",
   "execution_count": 202,
   "metadata": {},
   "outputs": [],
   "source": [
    "# NewestReviewDate - время, прошедшее со момента последнего review до '22/02/2020'\n",
    "#df['NewestReviewDate'] = df['Reviews'].apply(lambda x: get_reviews(x)['reviews_dt'])\n",
    "#df['NewestReviewDate'] = df['NewestReviewDate'].apply(lambda x: sorted(x,reverse=True)[0] if len(x)!=0 else pd.NaT)\n",
    "#df['NewestReviewDate'] = df['NewestReviewDate'].fillna(dt.date(1970,1,1))\n",
    "#df['NewestReviewDate'] = df['NewestReviewDate'].apply(lambda x: (CURRENT_DATE.date()-x).total_seconds()//86400)"
   ]
  },
  {
   "cell_type": "code",
   "execution_count": 203,
   "metadata": {},
   "outputs": [],
   "source": [
    "#df['NewestReviewSeason'] = df['Reviews'].apply(lambda x: get_reviews(x)['reviews_dt'])\n",
    "#df['NewestReviewSeason'] = df['NewestReviewSeason'].apply(lambda x: sorted(x,reverse=True)[0] if len(x)!=0 else pd.NaT)\n",
    "#df['NewestReviewSeason'] = df['NewestReviewSeason'].fillna(dt.date(2020,2,22))\n",
    "#df['NewestReviewSeason'] = df['NewestReviewSeason'].apply(lambda x: get_season(x))"
   ]
  },
  {
   "cell_type": "code",
   "execution_count": 204,
   "metadata": {},
   "outputs": [],
   "source": [
    "#df['RevTimeDelta'] = df['Reviews'].apply(rev_time_delta)\n",
    "\n",
    "# Не получилось"
   ]
  },
  {
   "cell_type": "code",
   "execution_count": 205,
   "metadata": {},
   "outputs": [],
   "source": [
    "# Количество позитивных слов в отзывах\n",
    "\n",
    "def count_positive_words_proportion(reviews):\n",
    "    pos_words_count = 0\n",
    "    txts=get_reviews(reviews)['reviews_txt']\n",
    "    txt = ' '.join(txts)\n",
    "    #print(type(txt))\n",
    "    words = createWordList(txt)\n",
    "    \n",
    "    words_count = len(words) if len(words) > 0 else 1\n",
    "    words_count = 1\n",
    "    pos_words_in_review=set(words).intersection(pos_words_list)\n",
    "    for word in words:\n",
    "        if word in pos_words_list:\n",
    "            #print(word)\n",
    "            pos_words_count +=1  \n",
    "    return np.round(pos_words_count/words_count,2)"
   ]
  },
  {
   "cell_type": "code",
   "execution_count": 206,
   "metadata": {},
   "outputs": [],
   "source": [
    "#  Список уникальных позитивных слов в приведенных отзывах\n",
    "def list_positive_words(reviews): \n",
    "    txts=get_reviews(reviews)['reviews_txt']\n",
    "    txt = ' '.join(txts)\n",
    "    #print(type(txt))\n",
    "    words = createWordList(txt)\n",
    "    \n",
    "    words_count = len(words) if len(words) > 0 else 1\n",
    "    words_count = 1\n",
    "    pos_words_in_review=set(words).intersection(pos_words_list)\n",
    "    #print(len(pos_words_in_review))\n",
    "    if (len(pos_words_in_review) == 0):\n",
    "        return np.NAN\n",
    "    else:\n",
    "        return list(pos_words_in_review)"
   ]
  },
  {
   "cell_type": "code",
   "execution_count": 207,
   "metadata": {},
   "outputs": [],
   "source": [
    "def createWordList(line):\n",
    "    wordList2 =[]\n",
    "    wordList1 = line.split()\n",
    "    for word in wordList1:\n",
    "        cleanWord = \"\"\n",
    "        for char in word:\n",
    "            if char in '!,.?\":;0123456789':\n",
    "                char = \"\"\n",
    "            cleanWord += char\n",
    "        wordList2.append(cleanWord.lower())\n",
    "    return wordList2"
   ]
  },
  {
   "cell_type": "code",
   "execution_count": 209,
   "metadata": {},
   "outputs": [],
   "source": [
    "# Количество позитивных слов в представленных отзывах\n",
    "#df['PositiveWords'] = df['Reviews'].apply(lambda x: count_positive_words_proportion(x))\n",
    "# Не получилось, что-то с Json"
   ]
  },
  {
   "cell_type": "code",
   "execution_count": null,
   "metadata": {},
   "outputs": [],
   "source": [
    "# df['PositiveWords in Reviews'] = df['PositiveWords'] / df['Number of Reviews']"
   ]
  },
  {
   "cell_type": "markdown",
   "metadata": {},
   "source": [
    "# Cusine"
   ]
  },
  {
   "cell_type": "code",
   "execution_count": 237,
   "metadata": {},
   "outputs": [],
   "source": [
    "df['Most Common Cusine in City'] = df['City'].apply(lambda x: cusines_in_city[x].most_common(1)[0][0])\n",
    "#df['Most Common Cusine in City']"
   ]
  },
  {
   "cell_type": "code",
   "execution_count": 217,
   "metadata": {},
   "outputs": [],
   "source": [
    "df['Cuisine Style'] = df.apply(lambda x: x['Cuisine Style'] if x['Cuisine Style NAN'] ==False else [x['Most Common Cusine in City']], axis=1)"
   ]
  },
  {
   "cell_type": "markdown",
   "metadata": {},
   "source": [
    "Возвращаем список кухонь, входящих в основной список кухонь,для остальных Other\n"
   ]
  },
  {
   "cell_type": "code",
   "execution_count": 221,
   "metadata": {},
   "outputs": [],
   "source": [
    "def is_cuisine_top_N(cs):\n",
    "    \n",
    "    c = get_cuisines(cs)\n",
    "    c = set(c)\n",
    "\n",
    "    shared_cousines=()\n",
    "    shared_cousines=c.intersection(topNcusines)\n",
    "\n",
    "    if len(shared_cousines) != len(c):\n",
    "        shared_cousines = list(shared_cousines)\n",
    "        shared_cousines.extend(['Other'])\n",
    "\n",
    "    return list(shared_cousines)"
   ]
  },
  {
   "cell_type": "code",
   "execution_count": 235,
   "metadata": {},
   "outputs": [],
   "source": [
    "# Сокращаем список кухонь для анализа до N - основных, остальные Other - это почти всегда дает улучшение предсказания\n",
    "N=10 #!!!\n",
    "\n",
    "s = df['Cuisine Style'].apply(lambda x: get_cuisines(x))\n",
    "slist =[]\n",
    "for x in s:\n",
    "    slist.extend(x)\n",
    "topNcusines = set(pd.Series(slist).value_counts()[:N].index)  \n",
    "df['Cuisine top N'] =df['Cuisine Style'].apply(lambda x: is_cuisine_top_N(x))\n",
    "#df['Cuisine top N']"
   ]
  },
  {
   "cell_type": "markdown",
   "metadata": {},
   "source": [
    "# Средняя цена в городе"
   ]
  },
  {
   "cell_type": "code",
   "execution_count": 241,
   "metadata": {},
   "outputs": [],
   "source": [
    "# Средняя цена в городе\n",
    "price_in_city_dict = df.groupby('City')['Price Range'].mean().to_dict()\n",
    "df['Price in City'] = df['City'].map(price_in_city_dict)\n",
    "#df['Price in City']"
   ]
  },
  {
   "cell_type": "markdown",
   "metadata": {},
   "source": [
    "### Устранили NaN и сгенерили новые признаки(пока без dummies), посмотрим какие из них подходят"
   ]
  },
  {
   "cell_type": "code",
   "execution_count": 225,
   "metadata": {},
   "outputs": [
    {
     "data": {
      "image/png": "[encoded data removed]",
      "text/plain": [
       "<Figure size 1440x1440 with 9 Axes>"
      ]
     },
     "metadata": {
      "needs_background": "light"
     },
     "output_type": "display_data"
    }
   ],
   "source": [
    "df[['Ranking', 'Rating', 'Number of Reviews', 'City', 'Price Range',\n",
    "        'Restaurant_id', 'Restaurants Count', 'Population', 'Restaurants for Population',\n",
    "         'Cuisines Count', 'Price in City']].hist(figsize=(20, 20), bins=100);\n",
    "plt.tight_layout()"
   ]
  },
  {
   "cell_type": "markdown",
   "metadata": {},
   "source": [
    "### Собираем Dummies"
   ]
  },
  {
   "cell_type": "code",
   "execution_count": 238,
   "metadata": {},
   "outputs": [],
   "source": [
    "# Собираем Dummies: city, price_range, country_range, Cuisine top N\n",
    "\n",
    "dff = pd.get_dummies(df['Cuisine top N'].apply(pd.Series).stack()).sum(level=0)\n",
    "df_mcc = pd.get_dummies(df['Most Common Cusine in City'], prefix = 'MCC')\n",
    "#df_city = pd.get_dummies(df['City'], prefix = 'City Range')\n",
    "df_price_range = pd.get_dummies(df['Price Range'], prefix = 'Price Range') \n",
    "#df_country_range = pd.get_dummies(df['Country'], prefix = 'Country Range',) \n",
    "\n",
    "#df['PositiveWordsList'] = df['PositiveWordsList'].fillna('NAN')\n",
    "#df_positive_words_range = pd.get_dummies(df['PositiveWordsList'].apply(pd.Series).stack(), dummy_na=False).sum(level=0)\n",
    "\n",
    "\n",
    "df1 = pd.concat([df,dff], axis=1)\n",
    "df1 = pd.concat([df1,df_city], axis=1)\n",
    "df1 = pd.concat([df1,df_price_range], axis=1)\n",
    "#df1 = pd.concat([df1,df_country_range], axis=1)\n",
    "df1 = pd.concat([df1,df_mcc], axis=1)\n",
    "#df1 = pd.concat([df1,df_positive_words_range], axis=1)\n",
    "\n",
    "#df1 = pd.concat([df1,df_season_range], axis=1)\n",
    "\n",
    "#df1 = pd.concat([df1,df_restid_range], axis=1)\n",
    "\n",
    "cols_cuisine_style = dff.columns\n",
    "cols_city = df_city.columns\n",
    "cols_price_range =  df_price_range.columns\n",
    "#cols_country_range =  df_country_range.columns\n",
    "cols_mcc =  df_mcc.columns\n",
    "#cols_positive_words = df_positive_words_range.columns\n",
    "#cols_season = df_season_range.columns\n",
    "#cols_restid_range =  df_restid_range.columns"
   ]
  },
  {
   "cell_type": "code",
   "execution_count": 244,
   "metadata": {},
   "outputs": [],
   "source": [
    "# Собираем признаки и разбиваем датафрейм на части, необходимые для обучения и тестирования модели\n",
    "columns = [ 'isMultyCusine', 'Price Range NAN', 'Cuisine Style NAN', 'Number of Reviews NAN', 'Number of Reviews', 'Restaurants Count', 'Cuisines Count', 'Ranking', 'Cusines Count In City', 'ID_TA', 'Price in City',  'Cuisine Style NAN','Population', 'Restaurants for Population',  ]\n",
    "\n",
    "#columns = [ 'isMultyCusine', 'Price Range NAN', 'Cuisine Style NAN', 'Number of Reviews NAN', 'Number of Reviews', 'Restaurants Count', 'Cuisines Count', 'RevTimeDelta',        'NewestReviewDate', 'PositiveWords',  'Weighed Rank', 'Ranking', 'Weighed Rank by Population',  'Cusines Count In City', 'WRR', 'ID_TA', 'Weighed Rank min max', 'Price in City', 'Weighed Rank by Population',  ]\n",
    "\n",
    "columns.extend(cols_price_range.tolist())\n",
    "columns.extend(cols_cuisine_style.tolist())\n",
    "columns.extend(cols_city.tolist())\n",
    "#columns.extend(cols_country_range.tolist())\n",
    "\n",
    "#columns.extend(cols_positive_words.tolist())\n",
    "\n"
   ]
  },
  {
   "cell_type": "code",
   "execution_count": 245,
   "metadata": {},
   "outputs": [],
   "source": [
    "#Разбиваем датафрейм на части, необходимые для обучения и тестирования модели\n",
    "X = df1[df1.ForTrain][columns]\n",
    "\n",
    "y = df1[df1.ForTrain]['Rating']"
   ]
  },
  {
   "cell_type": "code",
   "execution_count": 246,
   "metadata": {},
   "outputs": [],
   "source": [
    "# Загружаем специальный инструмент для разбивки:\n",
    "from sklearn.model_selection import train_test_split"
   ]
  },
  {
   "cell_type": "code",
   "execution_count": 247,
   "metadata": {},
   "outputs": [],
   "source": [
    "# Наборы данных с меткой \"train\" будут использоваться для обучения модели, \"test\" - для тестирования.\n",
    "# Для тестирования мы будем использовать 20% от исходного датасета.\n",
    "X_train, X_test, y_train, y_test = train_test_split(X, y, test_size=0.2, random_state=RANDOM_SEED)"
   ]
  },
  {
   "cell_type": "markdown",
   "metadata": {},
   "source": [
    "# Model "
   ]
  },
  {
   "cell_type": "code",
   "execution_count": 248,
   "metadata": {},
   "outputs": [],
   "source": [
    "# Импортируем необходимые библиотеки:\n",
    "from sklearn.ensemble import RandomForestRegressor # инструмент для создания и обучения модели\n",
    "from sklearn import metrics # инструменты для оценки точности модели"
   ]
  },
  {
   "cell_type": "code",
   "execution_count": 249,
   "metadata": {},
   "outputs": [],
   "source": [
    "# Создаём модель (НАСТРОЙКИ НЕ ТРОГАЕМ)\n",
    "regr = RandomForestRegressor(n_estimators=100, verbose=1, n_jobs=-1, random_state=RANDOM_SEED)"
   ]
  },
  {
   "cell_type": "code",
   "execution_count": 250,
   "metadata": {},
   "outputs": [
    {
     "name": "stderr",
     "output_type": "stream",
     "text": [
      "[Parallel(n_jobs=-1)]: Using backend ThreadingBackend with 4 concurrent workers.\n",
      "[Parallel(n_jobs=-1)]: Done  42 tasks      | elapsed:    4.1s\n",
      "[Parallel(n_jobs=-1)]: Done 100 out of 100 | elapsed:    9.1s finished\n",
      "[Parallel(n_jobs=4)]: Using backend ThreadingBackend with 4 concurrent workers.\n",
      "[Parallel(n_jobs=4)]: Done  42 tasks      | elapsed:    0.0s\n",
      "[Parallel(n_jobs=4)]: Done 100 out of 100 | elapsed:    0.1s finished\n"
     ]
    }
   ],
   "source": [
    "# Обучаем модель на тестовом наборе данных\n",
    "regr.fit(X_train, y_train)\n",
    "\n",
    "# Используем обученную модель для предсказания рейтинга ресторанов в тестовой выборке.\n",
    "# Предсказанные значения записываем в переменную y_pred\n",
    "y_pred = regr.predict(X_test)"
   ]
  },
  {
   "cell_type": "code",
   "execution_count": 252,
   "metadata": {},
   "outputs": [],
   "source": [
    "# Округляем до 0.5\n",
    "def round_of_rating(number):\n",
    "   \n",
    "    return np.round(number * 2) / 2\n"
   ]
  },
  {
   "cell_type": "code",
   "execution_count": null,
   "metadata": {},
   "outputs": [],
   "source": [
    "y_pred_old = y_pred.copy()\n",
    "y_pred = round_of_rating(y_pred) "
   ]
  },
  {
   "cell_type": "code",
   "execution_count": null,
   "metadata": {},
   "outputs": [],
   "source": [
    "# Сравниваем предсказанные значения (y_pred) с реальными (y_test), и смотрим насколько они в среднем отличаются\n",
    "# Метрика называется Mean Absolute Error (MAE) и показывает среднее отклонение предсказанных значений от фактических.\n",
    "print('MAE:', metrics.mean_absolute_error(y_test, y_pred),  metrics.mean_absolute_error(y_test, y_pred_old) )"
   ]
  },
  {
   "cell_type": "code",
   "execution_count": null,
   "metadata": {},
   "outputs": [],
   "source": [
    "#Вычисляем коэффициент детерминации:\n",
    "R_2 = metrics.r2_score(y_test, y_pred)\n",
    "print(R_2)"
   ]
  },
  {
   "cell_type": "code",
   "execution_count": null,
   "metadata": {},
   "outputs": [],
   "source": [
    "# в RandomForestRegressor есть возможность вывести самые важные признаки для модели\n",
    "plt.rcParams['figure.figsize'] = (10,10)\n",
    "feat_importances = pd.Series(regr.feature_importances_, index=X.columns)\n",
    "feat_importances.nlargest(30).plot(kind='barh');"
   ]
  },
  {
   "cell_type": "markdown",
   "metadata": {},
   "source": [
    "# Submission\n",
    "Если все устраевает - готовим Submission на кагл"
   ]
  },
  {
   "cell_type": "code",
   "execution_count": null,
   "metadata": {},
   "outputs": [],
   "source": [
    "# Предсказываем рейтинги на датасете для предсказаний (ForTrain == False)\n",
    "X_submission = df1[df1.ForTrain == False][columns]\n",
    "y_pred_submission = round_of_rating(regr.predict(X_submission))"
   ]
  },
  {
   "cell_type": "code",
   "execution_count": null,
   "metadata": {},
   "outputs": [],
   "source": [
    "# Формируем датасет с предсказаниями Restaurant_id -- Rating\n",
    "submission_df = pd.DataFrame()\n",
    "submission_df['Restaurant_id'] = df1[df1.ForTrain == False]['Restaurant_id']\n",
    "submission_df['Rating'] = y_pred_submission\n",
    "submission_df.head(15)"
   ]
  },
  {
   "cell_type": "markdown",
   "metadata": {},
   "source": [
    "# Проверяем годность предсказаний\n",
    "Если распределения достаточно похожи, то - ОК!"
   ]
  },
  {
   "cell_type": "code",
   "execution_count": null,
   "metadata": {},
   "outputs": [],
   "source": [
    "print('Тренировочный датасет')\n",
    "df[df.ForTrain].Rating.value_counts()"
   ]
  },
  {
   "cell_type": "code",
   "execution_count": null,
   "metadata": {},
   "outputs": [],
   "source": [
    "print('Предсказания масштабированные в 4 раза')\n",
    "submission_df.Rating.value_counts()*4"
   ]
  },
  {
   "cell_type": "code",
   "execution_count": null,
   "metadata": {},
   "outputs": [],
   "source": [
    "# Сохраняем предсказания\n",
    "submission_df.to_csv('submission.csv', index=False)"
   ]
  }
 ],
 "metadata": {
  "kernelspec": {
   "display_name": "Python 3",
   "language": "python",
   "name": "python3"
  },
  "language_info": {
   "codemirror_mode": {
    "name": "ipython",
    "version": 3
   },
   "file_extension": ".py",
   "mimetype": "text/x-python",
   "name": "python",
   "nbconvert_exporter": "python",
   "pygments_lexer": "ipython3",
   "version": "3.7.6"
  },
  "latex_envs": {
   "LaTeX_envs_menu_present": true,
   "autoclose": false,
   "autocomplete": true,
   "bibliofile": "biblio.bib",
   "cite_by": "apalike",
   "current_citInitial": 1,
   "eqLabelWithNumbers": true,
   "eqNumInitial": 1,
   "hotkeys": {
    "equation": "Ctrl-E",
    "itemize": "Ctrl-I"
   },
   "labels_anchors": false,
   "latex_user_defs": false,
   "report_style_numbering": false,
   "user_envs_cfg": false
  }
 },
 "nbformat": 4,
 "nbformat_minor": 4
}
