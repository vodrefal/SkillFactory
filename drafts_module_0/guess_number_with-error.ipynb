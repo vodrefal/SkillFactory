{
 "cells": [
  {
   "cell_type": "code",
   "execution_count": 1,
   "metadata": {},
   "outputs": [
    {
     "name": "stdout",
     "output_type": "stream",
     "text": [
      "May I ask you for your name?\n",
      "ef\n",
      "ef, we are going to play a game. I am thinking of a number between 1 and 200\n",
      "Go ahead. Guess!\n",
      "Guess: 20\n",
      "The guess of the number that you have entered is too low\n",
      "Try Again!\n",
      "Guess: 30\n",
      "The guess of the number that you have entered is too high\n",
      "Try Again!\n",
      "Guess: 25\n",
      "The guess of the number that you have entered is too low\n",
      "Try Again!\n",
      "Guess: 28\n",
      "The guess of the number that you have entered is too low\n",
      "Try Again!\n",
      "Guess: 29\n"
     ]
    },
    {
     "ename": "NameError",
     "evalue": "name 'name' is not defined",
     "output_type": "error",
     "traceback": [
      "\u001b[1;31m---------------------------------------------------------------------------\u001b[0m",
      "\u001b[1;31mNameError\u001b[0m                                 Traceback (most recent call last)",
      "\u001b[1;32m<ipython-input-1-5fe6f3c44ef7>\u001b[0m in \u001b[0;36m<module>\u001b[1;34m\u001b[0m\n\u001b[0;32m     48\u001b[0m \u001b[1;32mwhile\u001b[0m \u001b[0mplayagain\u001b[0m\u001b[1;33m==\u001b[0m\u001b[1;34m\"yes\"\u001b[0m \u001b[1;32mor\u001b[0m \u001b[0mplayagain\u001b[0m\u001b[1;33m==\u001b[0m\u001b[1;34m\"y\"\u001b[0m \u001b[1;32mor\u001b[0m \u001b[0mplayagain\u001b[0m\u001b[1;33m==\u001b[0m\u001b[1;34m\"Yes\"\u001b[0m\u001b[1;33m:\u001b[0m\u001b[1;33m\u001b[0m\u001b[1;33m\u001b[0m\u001b[0m\n\u001b[0;32m     49\u001b[0m     \u001b[0mintro\u001b[0m\u001b[1;33m(\u001b[0m\u001b[1;33m)\u001b[0m\u001b[1;33m\u001b[0m\u001b[1;33m\u001b[0m\u001b[0m\n\u001b[1;32m---> 50\u001b[1;33m     \u001b[0mpick\u001b[0m\u001b[1;33m(\u001b[0m\u001b[1;33m)\u001b[0m\u001b[1;33m\u001b[0m\u001b[1;33m\u001b[0m\u001b[0m\n\u001b[0m\u001b[0;32m     51\u001b[0m     \u001b[0mprint\u001b[0m\u001b[1;33m(\u001b[0m\u001b[1;34m\"Do you want to play again?\"\u001b[0m\u001b[1;33m)\u001b[0m\u001b[1;33m\u001b[0m\u001b[1;33m\u001b[0m\u001b[0m\n\u001b[0;32m     52\u001b[0m     \u001b[0mplayagain\u001b[0m\u001b[1;33m=\u001b[0m\u001b[0minput\u001b[0m\u001b[1;33m(\u001b[0m\u001b[1;33m)\u001b[0m\u001b[1;33m\u001b[0m\u001b[1;33m\u001b[0m\u001b[0m\n",
      "\u001b[1;32m<ipython-input-1-5fe6f3c44ef7>\u001b[0m in \u001b[0;36mpick\u001b[1;34m()\u001b[0m\n\u001b[0;32m     40\u001b[0m     \u001b[1;32mif\u001b[0m \u001b[0mguess\u001b[0m \u001b[1;33m==\u001b[0m \u001b[0mnumber\u001b[0m\u001b[1;33m:\u001b[0m\u001b[1;33m\u001b[0m\u001b[1;33m\u001b[0m\u001b[0m\n\u001b[0;32m     41\u001b[0m         \u001b[0mguessesTaken\u001b[0m \u001b[1;33m=\u001b[0m \u001b[0mstr\u001b[0m\u001b[1;33m(\u001b[0m\u001b[0mguessesTaken\u001b[0m\u001b[1;33m)\u001b[0m\u001b[1;33m\u001b[0m\u001b[1;33m\u001b[0m\u001b[0m\n\u001b[1;32m---> 42\u001b[1;33m         \u001b[0mprint\u001b[0m\u001b[1;33m(\u001b[0m\u001b[1;34m'Good job, '\u001b[0m \u001b[1;33m+\u001b[0m \u001b[0mname\u001b[0m \u001b[1;33m+\u001b[0m \u001b[1;34m'! You guessed my number in '\u001b[0m \u001b[1;33m+\u001b[0m \u001b[0mguessesTaken\u001b[0m \u001b[1;33m+\u001b[0m \u001b[1;34m' guesses!'\u001b[0m\u001b[1;33m)\u001b[0m\u001b[1;33m\u001b[0m\u001b[1;33m\u001b[0m\u001b[0m\n\u001b[0m\u001b[0;32m     43\u001b[0m \u001b[1;33m\u001b[0m\u001b[0m\n\u001b[0;32m     44\u001b[0m     \u001b[1;32mif\u001b[0m \u001b[0mguess\u001b[0m \u001b[1;33m!=\u001b[0m \u001b[0mnumber\u001b[0m\u001b[1;33m:\u001b[0m\u001b[1;33m\u001b[0m\u001b[1;33m\u001b[0m\u001b[0m\n",
      "\u001b[1;31mNameError\u001b[0m: name 'name' is not defined"
     ]
    }
   ],
   "source": [
    "# когда число угадано меньше, чем за 6 ходов, выходит ошибка\n",
    "import random #bring in the random number\n",
    "import time\n",
    "number=random.randint(1, 40) #pick the number between 1 and 200\n",
    "\n",
    "def intro():\n",
    "    print(\"May I ask you for your name?\")\n",
    "    name=input() #asks for the name\n",
    "    print(name + \", we are going to play a game. I am thinking of a number between 1 and 200\")\n",
    "    time.sleep(.5)\n",
    "    print(\"Go ahead. Guess!\")\n",
    "\n",
    "def pick():\n",
    "    guessesTaken = 0\n",
    "    while guessesTaken < 6: #if the number of guesses is less than 6\n",
    "        time.sleep(.25)\n",
    "        enter=input(\"Guess: \") #inserts the place to enter guess\n",
    "        try: #check if a number was entered\n",
    "            guess = int(enter) #stores the guess as an integer instead of a string    \n",
    "\n",
    "            if guess<=200 and guess>=1: #if they are in range\n",
    "                guessesTaken=guessesTaken+1 #adds one guess each time the player is wrong\n",
    "                if guessesTaken<6:\n",
    "                    if guess<number:\n",
    "                        print(\"The guess of the number that you have entered is too low\")\n",
    "                    if guess>number:\n",
    "                        print(\"The guess of the number that you have entered is too high\")\n",
    "                    if guess != number:\n",
    "                        time.sleep(.5)\n",
    "                        print(\"Try Again!\")\n",
    "                if guess==number:\n",
    "                    break #if the guess is right, then we are going to jump out of the while block\n",
    "            if guess>200 or guess<1: #if they aren't in the range\n",
    "                print(\"Silly Goose! That number isn't in the range!\")\n",
    "                time.sleep(.25)\n",
    "                print(\"Please enter a number between 1 and 200\")\n",
    "\n",
    "        except: #if a number wasn't entered\n",
    "            print(\"I don't think that \"+enter+\" is a number. Sorry\")\n",
    "            \n",
    "    if guess == number:\n",
    "        guessesTaken = str(guessesTaken)\n",
    "        print('Good job, ' + name + '! You guessed my number in ' + guessesTaken + ' guesses!')\n",
    "\n",
    "    if guess != number:\n",
    "        print('Nope. The number I was thinking of was ' + str(number))\n",
    "\n",
    "playagain=\"yes\"\n",
    "while playagain==\"yes\" or playagain==\"y\" or playagain==\"Yes\":\n",
    "    intro()\n",
    "    pick()\n",
    "    print(\"Do you want to play again?\")\n",
    "    playagain=input()"
   ]
  },
  {
   "cell_type": "code",
   "execution_count": null,
   "metadata": {},
   "outputs": [],
   "source": []
  }
 ],
 "metadata": {
  "kernelspec": {
   "display_name": "Python 3",
   "language": "python",
   "name": "python3"
  },
  "language_info": {
   "codemirror_mode": {
    "name": "ipython",
    "version": 3
   },
   "file_extension": ".py",
   "mimetype": "text/x-python",
   "name": "python",
   "nbconvert_exporter": "python",
   "pygments_lexer": "ipython3",
   "version": "3.7.6"
  }
 },
 "nbformat": 4,
 "nbformat_minor": 4
}
