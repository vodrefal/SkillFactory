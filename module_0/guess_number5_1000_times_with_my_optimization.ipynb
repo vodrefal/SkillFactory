{
 "cells": [
  {
   "cell_type": "code",
   "execution_count": 34,
   "metadata": {},
   "outputs": [],
   "source": [
    "'''Сначала устанавливаем любое random число, а потом вводим две переменных left=1 \n",
    "    и right=100. Угадываемое число predict устанавливаем не как случайное число, \n",
    "    а как середину диапазона между left и right. После чего проверяем: \n",
    "    если number>predict, то сдвигаем левую границу, т.е. left=predict+1,\n",
    "    если number<predict, то сдвигаем правую границу, т.е. right=predict-1, \n",
    "    если number = predict, то число угадано, выйти.'''\n",
    "import numpy as np\n",
    "def game_core_v4(number):\n",
    "    left = 1\n",
    "    right = 100\n",
    "    count = 1\n",
    "    predict = 50\n",
    "     # предполагаемое число \n",
    "    while predict != number:\n",
    "        count+=1\n",
    "        predict = (left+right)//2\n",
    "        if predict > number:\n",
    "            right = predict - 1\n",
    "        elif predict < number:\n",
    "            left = predict + 1   \n",
    "    return(count) # выход из цикла, если угадали"
   ]
  },
  {
   "cell_type": "code",
   "execution_count": 35,
   "metadata": {},
   "outputs": [],
   "source": [
    "def score_game(game_core):\n",
    "    '''Запускаем игру 1000 раз, чтобы узнать, как быстро игра угадывает число'''\n",
    "    count_ls = []\n",
    "    np.random.seed(1)  # фиксируем RANDOM SEED, чтобы ваш эксперимент был воспроизводим!\n",
    "    random_array = np.random.randint(1,101, size=(1000))\n",
    "    for number in random_array:\n",
    "        count_ls.append(game_core(number))\n",
    "    score = int(np.mean(count_ls))\n",
    "    print(f\"Ваш алгоритм угадывает число в среднем за {score} попыток\")\n",
    "    return(score)"
   ]
  },
  {
   "cell_type": "code",
   "execution_count": 36,
   "metadata": {},
   "outputs": [
    {
     "name": "stdout",
     "output_type": "stream",
     "text": [
      "Ваш алгоритм угадывает число в среднем за 6 попыток\n"
     ]
    },
    {
     "data": {
      "text/plain": [
       "6"
      ]
     },
     "execution_count": 36,
     "metadata": {},
     "output_type": "execute_result"
    }
   ],
   "source": [
    "# Проверяем\n",
    "score_game(game_core_v4)      "
   ]
  }
 ],
 "metadata": {
  "kernelspec": {
   "display_name": "Python 3",
   "language": "python",
   "name": "python3"
  },
  "language_info": {
   "codemirror_mode": {
    "name": "ipython",
    "version": 3
   },
   "file_extension": ".py",
   "mimetype": "text/x-python",
   "name": "python",
   "nbconvert_exporter": "python",
   "pygments_lexer": "ipython3",
   "version": "3.7.6"
  }
 },
 "nbformat": 4,
 "nbformat_minor": 4
}
