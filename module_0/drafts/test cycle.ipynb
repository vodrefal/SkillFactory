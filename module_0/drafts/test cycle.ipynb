{
 "cells": [
  {
   "cell_type": "code",
   "execution_count": 14,
   "metadata": {},
   "outputs": [
    {
     "name": "stdout",
     "output_type": "stream",
     "text": [
      "ваше число60\n",
      "2\n"
     ]
    }
   ],
   "source": [
    "number = 50\n",
    "count = 1\n",
    "predict = int(input(\"ваше число\"))\n",
    "left = 1\n",
    "right = 100\n",
    "current = (left+right)//2\n",
    "while number != predict:\n",
    "    count+=1\n",
    "    if number > predict:\n",
    "        left = current + 1\n",
    "    elif number < predict:\n",
    "        right = current - 1\n",
    "    break\n",
    "print(count)    "
   ]
  },
  {
   "cell_type": "code",
   "execution_count": null,
   "metadata": {},
   "outputs": [],
   "source": []
  }
 ],
 "metadata": {
  "kernelspec": {
   "display_name": "Python 3",
   "language": "python",
   "name": "python3"
  },
  "language_info": {
   "codemirror_mode": {
    "name": "ipython",
    "version": 3
   },
   "file_extension": ".py",
   "mimetype": "text/x-python",
   "name": "python",
   "nbconvert_exporter": "python",
   "pygments_lexer": "ipython3",
   "version": "3.7.6"
  }
 },
 "nbformat": 4,
 "nbformat_minor": 4
}
